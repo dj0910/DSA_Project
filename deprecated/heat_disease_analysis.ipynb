{
 "cells": [
  {
   "cell_type": "markdown",
   "id": "c3e8213b-dd50-463b-84b6-9cf20d65f002",
   "metadata": {},
   "source": [
    "# Analyse des Datasets heart_prediction.csv\n",
    "\n",
    "Der Heart Disease Datensatz stammt vom UCI Machine Learning Repository und wird häufig verwendet, um Modelle zur Vorhersage von Herzkrankheiten\n",
    "zu entwickeln und zu testen. Der Datensatz enthält 303 Instanzen und 14 Attribute (inklusive des Zielattributs).\n",
    "\n",
    "## Attribute\n",
    "\n",
    "1. **age**: Alter des Patienten (numerisch)\n",
    "   - **Medizinischer Begriff:** Chronologisches Alter in Jahren.\n",
    "\n",
    "2. **sex**: Geschlecht des Patienten (kategorisch; 1 = männlich, 0 = weiblich)\n",
    "   - **Medizinischer Begriff:** Biologisches Geschlecht, das sich auf physiologische Unterschiede bezieht.\n",
    "\n",
    "3. **cp**: Brustschmerztyp (kategorisch)\n",
    "   - 0: Typische Angina (Angina pectoris)\n",
    "   - 1: Atypische Angina\n",
    "   - 2: Nicht-anginöse Schmerzen\n",
    "   - 3: Asymptomatisch\n",
    "   - **Medizinischer Begriff:** Angina pectoris ist ein Schmerz oder Unbehagen im Brustbereich, der durch eine unzureichende Sauerstoffversorgung des Herzmuskels verursacht wird.\n",
    "\n",
    "4. **trestbps**: Ruheblutdruck (numerisch; mm Hg)\n",
    "   - **Medizinischer Begriff:** Der Blutdruck im arteriellen System des Körpers in Ruhe gemessen, ausgedrückt in Millimeter Quecksilbersäule (mm Hg).\n",
    "\n",
    "5. **chol**: Serumcholesterin (numerisch; mg/dl)\n",
    "   - **Medizinischer Begriff:** Die Menge an Cholesterin im Blutserum, gemessen in Milligramm pro Deziliter (mg/dl).\n",
    "\n",
    "6. **fbs**: Nüchternblutzucker > 120 mg/dl (kategorisch; 1 = wahr, 0 = falsch)\n",
    "   - **Medizinischer Begriff:** Der Blutzuckerspiegel nach einer Fastenperiode von mindestens 8 Stunden. Ein Wert über 120 mg/dl kann auf Diabetes hinweisen.\n",
    "\n",
    "7. **restecg**: Ruhe-EKG-Ergebnisse (kategorisch)\n",
    "   - 0: Normal\n",
    "   - 1: ST-T-Wellen-Anomalie (z.B. T-Wellen-Inversion und/oder ST-Hebung oder -Senkung > 0,05 mV)\n",
    "   - 2: Linksventrikuläre Hypertrophie nach Estes-Kriterien\n",
    "   - **Medizinischer Begriff:** Elektrokardiogramm (EKG) in Ruhe, das elektrische Aktivität des Herzens misst und Anomalien identifiziert.\n",
    "\n",
    "8. **thalach**: Maximale Herzfrequenz erreicht (numerisch)\n",
    "   - **Medizinischer Begriff:** Die höchste Herzfrequenz, die bei körperlicher Belastung erreicht wird.\n",
    "\n",
    "9. **exang**: Belastungsangina (kategorisch; 1 = ja, 0 = nein)\n",
    "   - **Medizinischer Begriff:** Auftreten von Angina pectoris während körperlicher Aktivität.\n",
    "\n",
    "10. **oldpeak**: ST-Senkung induziert durch Bewegung relativ zur Ruhe (numerisch; mm)\n",
    "    - **Medizinischer Begriff:** Die Veränderung des ST-Segments im EKG nach körperlicher Belastung im Vergleich zum Ruhe-EKG, gemessen in Millimetern.\n",
    "\n",
    "11. **slope**: Steigung des ST-Segments (kategorisch)\n",
    "    - 0: Upsloping (ansteigend)\n",
    "    - 1: Flat (flach)\n",
    "    - 2: Downsloping (abfallend)\n",
    "    - **Medizinischer Begriff:** Beschreibt die Richtung des ST-Segments im EKG nach Belastung, was Hinweise auf verschiedene Arten von Herzerkrankungen geben kann.\n",
    "\n",
    "12. **ca**: Anzahl der großen Gefäße (0–3) gefärbt durch Fluoroskopie (numerisch)\n",
    "    - **Medizinischer Begriff:** Anzahl der Hauptblutgefäße (Koronararterien), die durch Fluoroskopie sichtbar gemacht wurden und Hinweise auf Verengungen geben.\n",
    "\n",
    "13. **thal**: Thalassemie (kategorisch)\n",
    "    - 3: Normal\n",
    "    - 6: Feste Defekte\n",
    "    - 7: Reversible Defekte\n",
    "    - **Medizinischer Begriff:** Genetische Blutstörung, die die Produktion von Hämoglobin beeinflusst, hier in Bezug auf Herzprobleme bewertet.\n",
    "\n",
    "14. **target**: Zielvariable (kategorisch; 0 = keine Herzkrankheit, 1 = Herzkrankheit vorhanden)\n",
    "    - **Medizinischer Begriff:** Gibt an, ob beim Patienten eine Herzkrankheit diagnostiziert wurde (1) oder nicht (0).\n",
    "\n",
    "## Analyse der einzelnen Variablen\n",
    "Im folgenden Codeblock wird das bereinigte Dataset geladen. Bei der Bereinigung wurden fehlerhafte Werte entfernt, aussagekräftigere Attributnamen gewählt (bsp. cp -> chest_pain_type), sowie die Kategorien auf die numerischen Werte gemappt und für die Visualisierung vorbereitet.\n"
   ]
  },
  {
   "cell_type": "code",
   "execution_count": 7,
   "id": "38a7367b",
   "metadata": {},
   "outputs": [],
   "source": [
    "import pandas as pd\n",
    "import numpy as np\n",
    "import seaborn as sns\n",
    "import matplotlib.pyplot as plt\n",
    "from matplotlib.ticker import PercentFormatter\n",
    "\n",
    "\n",
    "# Daten laden\n",
    "data = pd.read_csv(\"../resources/data_clean/heart_predictions_clean.csv\").dropna(how='any')\n",
    "\n",
    "# Unterteilung der Daten in kategorische und numerische Werte:\n",
    "categorical_attributes = []\n",
    "numerical_attributes = []\n",
    "\n",
    "\n",
    "for attr in data.columns:\n",
    "    if attr != 'target':\n",
    "        if data [attr].dtypes == \"object\" or attr == 'max_heart_rate_achieved' :\n",
    "            categorical_attributes.append(attr)\n",
    "        else:\n",
    "            numerical_attributes.append(attr)\n",
    "\n",
    "non_numerical_attributes = ['target']+categorical_attributes\n",
    "amount_categorical_attributes = len(categorical_attributes)\n",
    "amount_numerical_attributes = len(numerical_attributes)\n",
    "# Visualisierungsstil festlegen\n",
    "sns.set_theme(style=\"whitegrid\")"
   ]
  },
  {
   "cell_type": "code",
   "execution_count": null,
   "id": "3d53f5b9",
   "metadata": {},
   "outputs": [],
   "source": [
    "print(data['chest_pain_type'].dtypes)"
   ]
  },
  {
   "cell_type": "markdown",
   "id": "3a77f328",
   "metadata": {},
   "source": [
    "### Alter der Patienten(age)\n",
    "\n",
    "Die folgenden Visualisierungen zeigt die Verteilung des Alters der Patienten sowie das Auftreten der Herzkreislauferkrankungen in den verschiedenen Altersgruppen. Die Daten sind relativ gleichmäßig über die Altersgruppen verteilt, mit einer leichten Häufung bei den mittleren Altersgruppen (ca. 50-60 Jahre).\n",
    "Die Verteilung der Patienten mit Herzerkrankung ist ähnlich verteilt mit einem Versatz des Peaks um 10 Jahre nach vorne. Die jüngeren Gruppen (ca. 30-55) haben prozentual häufiger einer Herzkreislauferkrankung im Vergleich zu den Altersgruppen mit der höchten Altersverteilung. \n",
    "\n"
   ]
  },
  {
   "cell_type": "code",
   "execution_count": null,
   "id": "533441ad",
   "metadata": {},
   "outputs": [],
   "source": [
    "# Altersverteilung untersuchen              \n",
    "plt.figure(figsize=(10, 5))\n",
    "\n",
    "plt.subplot(1,2,1)\n",
    "sns.histplot(data=data, x='age', kde=True)\n",
    "plt.title('Altersverteilung')\n",
    "plt.xlabel('Alter in Jahren')\n",
    "plt.ylabel('Anzahl')\n",
    "\n",
    "plt.subplot(1,2,2)\n",
    "sns.histplot(data=data, x='age', hue='target', multiple='stack', kde=True)\n",
    "plt.title('Verteilung der Herzerkrankungen im Alter')\n",
    "plt.xlabel('Alter in Jahren')\n",
    "plt.ylabel('Anzahl')\n",
    "plt.show()"
   ]
  },
  {
   "cell_type": "markdown",
   "id": "ffe8e3e7",
   "metadata": {},
   "source": [
    "### Geschlecht(sex)\n",
    "\n",
    "Die folgende Visualisierunen zeigen die Anzahl der männlichen und weiblichen Patienten und Geschlechter unterteilt nach dem Vorhandensein einer Herzkrankheit. Es gibt deutlich mehr männliche als weibliche Patienten im Datensatz.\n",
    "\n",
    "Zudem gibt es im Vergleich zu den Männern überproportional viele Frauen mit einer Herzerkrankung."
   ]
  },
  {
   "cell_type": "code",
   "execution_count": null,
   "id": "9cf3f6ad",
   "metadata": {},
   "outputs": [],
   "source": [
    "# Geschlecht untersuchen              \n",
    "plt.figure(figsize=(10, 5))\n",
    "\n",
    "plt.subplot(1,2,1)\n",
    "sns.countplot(data=data, x='sex')\n",
    "plt.title('Geschlechtsverteilung')\n",
    "plt.xlabel('Geschlechter')\n",
    "plt.ylabel('Anzahl')\n",
    "\n",
    "plt.subplot(1,2,2)\n",
    "sns.countplot(data=data, x='sex', hue='target')\n",
    "plt.title('Verteilung der Herzerkrankungen in den Geschlechtern')\n",
    "plt.xlabel('Geschlechter')\n",
    "plt.ylabel('Anzahl')\n",
    "\n",
    "plt.show()\n"
   ]
  },
  {
   "cell_type": "markdown",
   "id": "67547a75",
   "metadata": {},
   "source": [
    "### Brustschmerztyp (cp | chest_pain_type)\n",
    "\n",
    "Die folgende Visualisierung zeigt die Verteilung der Brustschmerztypen, unterteilt nach dem Vorhandensein einer Herzkrankheit. Typische Angina und Nicht-anginöser Schmerzen sind am häufigsten vertreten.\n",
    "Typische Angina hatte zudem edn geeringsten Anteil an Herzerkrankung. Bei den drei Brustschmerztypen traten Herzerkrankungen häufiger auf als keine Herzerkrankungen."
   ]
  },
  {
   "cell_type": "code",
   "execution_count": null,
   "id": "ce2ac890",
   "metadata": {},
   "outputs": [],
   "source": [
    "# Brustschmerztyp untersuchen              \n",
    "plt.figure(figsize=(10, 5))\n",
    "\n",
    "plt.subplot(1,2,1)\n",
    "sns.countplot(data=data, x='chest_pain_type')\n",
    "plt.title('Verteilung der Brustschmerztypen')\n",
    "plt.xlabel('Brustschmerztyp')\n",
    "plt.ylabel('Anzahl')\n",
    "plt.xticks(rotation=45)\n",
    "\n",
    "plt.subplot(1,2,2)\n",
    "sns.countplot(data=data, x='chest_pain_type', hue='target')\n",
    "plt.title('Brustschmerztypen und Herzerkrankung')\n",
    "plt.xlabel('Brustschmerztyp')\n",
    "plt.ylabel('Anzahl')\n",
    "\n",
    "plt.xticks(rotation=45)\n",
    "plt.show()"
   ]
  },
  {
   "cell_type": "markdown",
   "id": "8ffa47e6",
   "metadata": {},
   "source": [
    "### Ruheblutdruck (trestbps | resting_blood_pressure)\n",
    "Die folgende Visualisierung zeigt die Verteilung des Ruheblutdrucks der Patienten, unterteilt nach dem Vorhandensein einer Herzkrankheit. Die meisten Patienten haben einen Ruheblutdruck zwischen 110 und 140 mmHg.\n",
    "Die Verteilung der Herzerkrankungsfälle folgt der gleichen Verteilung. In dem Bereichen 110-140 mmHg treten vermehrt Herzerkrankungen auf. Ab ca 150mmHg sinkt der Anteil von Herzerkrankungsfällen unter den Werten der Gruppe, die keine Herzerkrankung hat. "
   ]
  },
  {
   "cell_type": "code",
   "execution_count": null,
   "id": "752455d3",
   "metadata": {},
   "outputs": [],
   "source": [
    "# Ruheblutdruck untersuchen\n",
    "plt.figure(figsize=(10, 5))\n",
    "\n",
    "plt.subplot(1,2,1)\n",
    "sns.histplot(data=data, x='resting_blood_pressure', kde=True)\n",
    "plt.title('Verteilung des Ruheblutdrucks')\n",
    "plt.xlabel('Ruheblutdruck in mmHg')\n",
    "plt.ylabel('Anzahl')\n",
    "\n",
    "plt.subplot(1,2,2)\n",
    "### Ruheblutdruck (trestbps | resting_blood_pressure)\n",
    "sns.histplot(data=data, x='resting_blood_pressure', hue='target', kde=True)\n",
    "plt.title('Ruheblutdruck nach Herzerkrankung')\n",
    "plt.xlabel('Ruheblutdruck in mmHg')\n",
    "plt.ylabel('Anzahl')\n",
    "plt.show()\n"
   ]
  },
  {
   "cell_type": "markdown",
   "id": "c3406659",
   "metadata": {},
   "source": [
    "### Serumcholesterin (chol| cholesterol)\n",
    "Die folgende Visualisierung zeigt die Verteilung des Serumcholesterins der Patienten. Die meisten Patienten haben Cholesterinwerte zwischen 200 und 300 mg/dl.\n",
    "Die Verteilung ist leicht nach links verschoben. Bis ca. 280 mg/dl ist der Anteil von Patienten mit Herzerkrankung höher als die der Patienten ohne. Ab 400 mg/dl gibt es einzelne Ausreißer, die keinem direkten Trend folgen.\n"
   ]
  },
  {
   "cell_type": "code",
   "execution_count": null,
   "id": "6d4d0c4d",
   "metadata": {},
   "outputs": [],
   "source": [
    "#Serumcholesterin untersuchen\n",
    "\n",
    "plt.figure(figsize=(10, 5))\n",
    "\n",
    "plt.subplot(1,2,1)\n",
    "sns.histplot(data=data, x='cholesterol', kde=True)\n",
    "plt.title('Verteilung des Serumcholesterins')\n",
    "plt.xlabel('Serumcholesterin in mg/dl')\n",
    "plt.ylabel('Anzahl')\n",
    "\n",
    "plt.subplot(1,2,2)\n",
    "\n",
    "sns.histplot(data=data, x='cholesterol', hue='target', kde=True)\n",
    "plt.title('Serumcholesterin nach Herzerkrankung')\n",
    "plt.xlabel('Serumcholesterin in mg/dl')\n",
    "plt.ylabel('Anzahl')\n",
    "plt.show()"
   ]
  },
  {
   "cell_type": "markdown",
   "id": "16b40c55",
   "metadata": {},
   "source": [
    "### Nüchternblutzucker (fbs | fasting_blood_sugar)\n",
    "Die folgende Visualisierung zeigt die Anzahl der Patienten mit einem Nüchternblutzucker über 120 mg/dl. Der Großteil der Patienten hat einen Nüchternblutzuckerwert unter diesem Schwellenwert.\n",
    "In beiden Kategorien gibt es mehr Patienten mit einer Herzerkrankung in einem ähnlichen relativen Anteil\n",
    "\n"
   ]
  },
  {
   "cell_type": "code",
   "execution_count": null,
   "id": "e90fd410",
   "metadata": {},
   "outputs": [],
   "source": [
    "# Nüchternblutzucker untersuchen              \n",
    "plt.figure(figsize=(10, 5))\n",
    "\n",
    "plt.subplot(1,2,1)\n",
    "sns.countplot(data=data, x='fasting_blood_sugar' )\n",
    "plt.title('Verteilung des Nüchternblutzucker')\n",
    "plt.xlabel('Nüchternblutzucker')\n",
    "plt.ylabel('Anzahl')\n",
    "plt.xticks(rotation=45)\n",
    "\n",
    "plt.subplot(1,2,2)\n",
    "sns.countplot(data=data, x='fasting_blood_sugar', hue='target')\n",
    "plt.title('Nüchternblutzucker und Herzerkrankung')\n",
    "plt.xlabel('Nüchternblutzucker')\n",
    "plt.ylabel('Anzahl')\n",
    "\n",
    "plt.xticks(rotation=45)\n",
    "plt.show()"
   ]
  },
  {
   "cell_type": "markdown",
   "id": "411d8e25",
   "metadata": {},
   "source": [
    "### Ruhe-EKG-Ergebnisse (restecg | resting_electrocardiogram)\n",
    "Die folgende Visualisierung zeigt die Verteilung der Ruhe-EKG-Ergebnisse. Die meisten Patienten haben normale EKG-Ergebnisse oder ST-T-Wellen-Anomalien.\n",
    "Patienten mit ST-T-Wellen-Anomalien hatten auch vermehrt Herzerkrankungen.\n"
   ]
  },
  {
   "cell_type": "code",
   "execution_count": null,
   "id": "9b5259cc",
   "metadata": {},
   "outputs": [],
   "source": [
    "# Ruhe-EKG-Ergebnisse untersuchen              \n",
    "plt.figure(figsize=(10, 5))\n",
    "\n",
    "plt.subplot(1,2,1)\n",
    "sns.countplot(data=data, x='resting_electrocardiogram' )\n",
    "plt.title('Verteilung der Ruhe-EKG-Ergebnisse')\n",
    "plt.xlabel('Ruhe-EKG-Ergebnisse')\n",
    "plt.ylabel('Anzahl')\n",
    "plt.xticks(rotation=45)\n",
    "\n",
    "plt.subplot(1,2,2)\n",
    "sns.countplot(data=data, x='resting_electrocardiogram', hue='target')\n",
    "plt.title('Ruhe-EKG-Ergebnisse und Herzerkrankung')\n",
    "plt.xlabel('NüchternRuhe-EKG-Ergebnisseblutzucker')\n",
    "plt.ylabel('Anzahl')\n",
    "\n",
    "plt.xticks(rotation=45)\n",
    "plt.show()"
   ]
  },
  {
   "cell_type": "markdown",
   "id": "a3428943",
   "metadata": {},
   "source": [
    "### Maximale Herzfrequenz (thalach | max_heart_rate_achieved)\n",
    "Die folgende Visualisierung zeigt die Verteilung der maximalen Herzfrequenz der Patienten. Die meisten Patienten erreichen eine maximale Herzfrequenz zwischen 140 und 180 Schlägen pro Minute.\n",
    "Es ist auch eine klare Häufung der Herzerkrankung bei Patienten mit hoher Herzfrequenz\n"
   ]
  },
  {
   "cell_type": "code",
   "execution_count": null,
   "id": "c68ff73d",
   "metadata": {},
   "outputs": [],
   "source": [
    "# Maximale Herzfrequenz untersuchen\n",
    "plt.figure(figsize=(10, 5))\n",
    "\n",
    "plt.subplot(1,2,1)\n",
    "sns.histplot(data=data, x='max_heart_rate_achieved', kde=True)\n",
    "plt.title('Verteilung der maximale Herzfrequenz')\n",
    "plt.xlabel('Serumcholesterin in mg/dl')\n",
    "plt.ylabel('Anzahl')\n",
    "\n",
    "plt.subplot(1,2,2)\n",
    "\n",
    "sns.histplot(data=data, x='max_heart_rate_achieved', hue='target', kde=True)\n",
    "plt.title('Maximale Herzfrequenz und Herzerkrankung')\n",
    "plt.xlabel('Serumcholesterin in mg/dl')\n",
    "plt.ylabel('Anzahl')\n",
    "plt.show()"
   ]
  },
  {
   "cell_type": "markdown",
   "id": "c5668b2d",
   "metadata": {},
   "source": [
    "### Belastungsangina (exang |exercise_induced_angina)\n",
    "Die folgende Visualisierung zeigt die Anzahl der Patienten, die während der Belastung Angina pectoris hatten, unterteilt nach dem Vorhandensein einer Herzkrankheit. Die Mehrheit der Patienten hatte keine Belastungsangina.\n",
    "Entgegen unserer initialen Erwartungen haben von den Patienten, die während der Belastung keine Angina hatten, die Mehrheit eine Herzerkrankung."
   ]
  },
  {
   "cell_type": "code",
   "execution_count": null,
   "id": "80b04c8b",
   "metadata": {},
   "outputs": [],
   "source": [
    "# Ruhe-EKG-Ergebnisse untersuchen              \n",
    "plt.figure(figsize=(10, 5))\n",
    "\n",
    "plt.subplot(1,2,1)\n",
    "sns.countplot(data=data, x='exercise_induced_angina')\n",
    "plt.title('Verteilung der Belastungsangina')\n",
    "plt.xlabel('Belastungsangina')\n",
    "plt.ylabel('Anzahl')\n",
    "plt.xticks(rotation=45)\n",
    "\n",
    "plt.subplot(1,2,2)\n",
    "sns.countplot(data=data, x='exercise_induced_angina', hue='target')\n",
    "plt.title('Belastungsangina und Herzerkrankung')\n",
    "plt.xlabel('Belastungsangina')\n",
    "plt.ylabel('Anzahl')\n",
    "\n",
    "plt.xticks(rotation=45)\n",
    "plt.show()"
   ]
  },
  {
   "cell_type": "markdown",
   "id": "4870ed9b",
   "metadata": {},
   "source": [
    "### ST-Senkung (oldpeak | st_depression)\n",
    "Die folgende Visualisierung zeigt die Verteilung der ST-Senkung durch Bewegung relativ zur Ruhe, unterteilt nach dem Vorhandensein einer Herzkrankheit. Die meisten Patienten haben eine ST-Senkung von weniger als 2 mm.\n",
    "Es ist zu erkennen, dass mehr Herzerkrankungen auftreten, je niederiger die ST-Senkung ist.\n"
   ]
  },
  {
   "cell_type": "code",
   "execution_count": null,
   "id": "ca791c49",
   "metadata": {},
   "outputs": [],
   "source": [
    "plt.figure(figsize=(10, 5))\n",
    "\n",
    "plt.subplot(1,2,1)\n",
    "sns.histplot(data=data, x='st_depression', kde=True)\n",
    "plt.title('Verteilung: ST-Senkung')\n",
    "plt.xlabel('ST-Senkung in mm')\n",
    "plt.ylabel('Anzahl')\n",
    "\n",
    "plt.subplot(1,2,2)\n",
    "\n",
    "sns.histplot(data=data, x='st_depression', hue='target', kde=True)\n",
    "plt.title('ST-Senkung und Herzerkrankung')\n",
    "plt.xlabel('ST-Senkung in mm')\n",
    "plt.ylabel('Anzahl')\n",
    "plt.show()"
   ]
  },
  {
   "cell_type": "markdown",
   "id": "bb6165d2",
   "metadata": {},
   "source": [
    "### Steigung des ST-Segments (slope | st_slope)\n",
    "Die folgende Visualisierung zeigt die Verteilung der Steigungen des ST-Segments, unterteilt nach dem Vorhandensein einer Herzkrankheit. Die häufigste Steigung ist die abfallende, gefolgt von der flachen und der ansteigenden.\n",
    "\n",
    "Es ist zu erkennen, dass die Patienten mit einer abfallenden Steigung den höchsten Anteil von Herzerkrankungen haben.\n"
   ]
  },
  {
   "cell_type": "code",
   "execution_count": null,
   "id": "875783db",
   "metadata": {},
   "outputs": [],
   "source": [
    "# Steigung des ST-Segments untersuchen              \n",
    "plt.figure(figsize=(10, 5))\n",
    "\n",
    "plt.subplot(1,2,1)\n",
    "sns.countplot(data=data, x='st_slope' )\n",
    "plt.title('Verteilung der unterschiedlichen Steigungen des ST-Segments')\n",
    "plt.xlabel('Arten der Steigungen des ST-Segments')\n",
    "plt.ylabel('Anzahl')\n",
    "\n",
    "plt.subplot(1,2,2)\n",
    "sns.countplot(data=data, x='st_slope', hue='target')\n",
    "plt.title('Steigung des ST-Segments und Herzerkrankung')\n",
    "plt.xlabel('Arten der Steigungen des ST-Segments')\n",
    "plt.ylabel('Anzahl')\n",
    "\n",
    "plt.show()\n"
   ]
  },
  {
   "cell_type": "markdown",
   "id": "f330245b",
   "metadata": {},
   "source": [
    "### Anzahl der großen Gefäße (ca | num_major_vessels)\n",
    "Die folgende Visualisierung zeigt die Verteilung der Anzahl der großen Gefäße, die durch Fluoroskopie gefärbt wurden, unterteilt nach dem Vorhandensein einer Herzkrankheit. Die meisten Patienten haben keine oder ein großes Gefäß (0 oder 1).\n",
    "\n",
    "Es ist zu erkennen, dass mehr Herzerkrankungen auftreten, je niederiger die Anzahl der großen Gefäße, die gefärbt wurden, ist.\n",
    "\n"
   ]
  },
  {
   "cell_type": "code",
   "execution_count": null,
   "id": "3fabfdc5",
   "metadata": {},
   "outputs": [],
   "source": [
    "# Anzahl der großen Gefäße  untersuchen              \n",
    "plt.figure(figsize=(10, 5))\n",
    "\n",
    "plt.subplot(1,2,1)\n",
    "sns.countplot(data=data, x='num_major_vessels' )\n",
    "plt.title('Verteilung der Anzahl der großen Gefäße ')\n",
    "plt.xlabel('Anzahl der großen Gefäße ')\n",
    "plt.ylabel('Anzahl')\n",
    "\n",
    "plt.subplot(1,2,2)\n",
    "sns.countplot(data=data, x='num_major_vessels', hue='target')\n",
    "plt.title('Anzahl der großen Gefäße  und Herzerkrankung')\n",
    "plt.xlabel('Anzahl der großen Gefäße ')\n",
    "plt.ylabel('Anzahl')\n",
    "\n",
    "plt.show()\n"
   ]
  },
  {
   "cell_type": "markdown",
   "id": "ea1f0a8f",
   "metadata": {},
   "source": [
    "### Thalassemie (thal | thalassemia)\n",
    "Die folgende Visualisierung zeigt die Verteilung der Thalassemie-Typen, unterteilt nach dem Vorhandensein einer Herzkrankheit. Die meisten Patienten haben normale Thalassemie-Werte, gefolgt von reversiblen Defekten und festen Defekten.\n",
    "\n",
    "Patienten mit normalen Thalasemiewerten wiesen das höchste absolute und relative Vorkommen an Herzerkrankungen auf."
   ]
  },
  {
   "cell_type": "code",
   "execution_count": null,
   "id": "291025e8",
   "metadata": {},
   "outputs": [],
   "source": [
    "# Thalassemie untersuchen              \n",
    "plt.figure(figsize=(10, 5))\n",
    "\n",
    "plt.subplot(1,2,1)\n",
    "sns.countplot(data=data, x='thalassemia' )\n",
    "plt.title('Verteilung der Thalassemie-Typen')\n",
    "plt.xlabel('Thalassemie-Typen')\n",
    "plt.ylabel('Anzahl')\n",
    "\n",
    "plt.subplot(1,2,2)\n",
    "sns.countplot(data=data, x='thalassemia', hue='target')\n",
    "plt.title('Thalassemie-Typen und Herzerkrankung')\n",
    "plt.xlabel('Thalassemie-Typen')\n",
    "plt.ylabel('Anzahl')\n",
    "\n",
    "plt.show()\n"
   ]
  },
  {
   "cell_type": "markdown",
   "id": "e5b6b177",
   "metadata": {},
   "source": [
    "## Multivariate Analysen\n",
    "\n",
    "Im folgenden werden die Zusammenhänge zwischen den einzelnen Attributen dargestellt.\n",
    "\n",
    "### Bivariate Kategorische Analysen\n",
    "Bei der Untersuchung der kategorischen Attribute wird mit Heatmaps gearbeitet, um Kombinationen zu ermitteln, die einen besonders hohen Herzerkrankungsanteil besitzen. Die Einfärbung basiert somit auf den Anteil der Herzerkrankungen in den Schnittmengen\n",
    "\n"
   ]
  },
  {
   "cell_type": "code",
   "execution_count": null,
   "id": "461b4f17",
   "metadata": {},
   "outputs": [],
   "source": [
    "#Funktion zum generieren von Boxplots\n",
    "def generate_heatmap(y_cat, title):\n",
    "    other_cat = [cat for cat in categorical_attributes if cat != y_cat]\n",
    "    num_of_categories  =len(other_cat)\n",
    "    fig, axes= plt.subplots(1,num_of_categories, figsize=(5*num_of_categories,5), sharey=True)\n",
    "\n",
    "    fig.suptitle(f\"Kategorische Analyse: {title}\")\n",
    "    \n",
    "\n",
    "    \n",
    "    for i,attr in enumerate(other_cat):\n",
    "        heatmap_data = data.pivot_table(index =y_cat, columns=attr, values='target', aggfunc=lambda x: np.mean(x) * 100)\n",
    "        ax = axes[i]\n",
    "        sns.heatmap(ax = ax, data=heatmap_data,  annot=True, fmt=\".1f\", cmap='coolwarm')\n",
    "        ax.set_xticklabels(ax.get_xticklabels(), rotation=45, ha='right')\n",
    "        if(i != 0):\n",
    "            ax.set_ylabel('')\n",
    "        if(i < num_of_categories-1):\n",
    "            ax.collections[0].colorbar.remove()\n",
    "        else:\n",
    "            ax.collections[0].colorbar.ax.yaxis.set_major_formatter(PercentFormatter())\n",
    "   \n",
    "    return fig\n"
   ]
  },
  {
   "cell_type": "code",
   "execution_count": null,
   "id": "b7353de1",
   "metadata": {},
   "outputs": [],
   "source": [
    "generate_heatmap('sex', \"Geschlecht\").show"
   ]
  },
  {
   "cell_type": "code",
   "execution_count": null,
   "id": "0b04b28e",
   "metadata": {},
   "outputs": [],
   "source": [
    "generate_heatmap('chest_pain_type', \"Brustschmerztyp\").show"
   ]
  },
  {
   "cell_type": "code",
   "execution_count": null,
   "id": "22efd8d3",
   "metadata": {},
   "outputs": [],
   "source": [
    "generate_heatmap('fasting_blood_sugar', \"Ruheblutzucker\").show"
   ]
  },
  {
   "cell_type": "code",
   "execution_count": null,
   "id": "eb42e494",
   "metadata": {},
   "outputs": [],
   "source": [
    "generate_heatmap('resting_electrocardiogram', \"Geschlecht\").show"
   ]
  },
  {
   "cell_type": "code",
   "execution_count": null,
   "id": "09018576",
   "metadata": {},
   "outputs": [],
   "source": [
    "generate_heatmap('exercise_induced_angina', \"Belastungsangina\").show"
   ]
  },
  {
   "cell_type": "code",
   "execution_count": null,
   "id": "fdab6da9",
   "metadata": {},
   "outputs": [],
   "source": [
    "generate_heatmap('st_slope', \"Steigung des ST-Segments\").show"
   ]
  },
  {
   "cell_type": "code",
   "execution_count": null,
   "id": "fd4b29ee",
   "metadata": {},
   "outputs": [],
   "source": [
    "generate_heatmap('thalassemia', \"Thalasemiatyp\").show"
   ]
  },
  {
   "cell_type": "markdown",
   "id": "85082e3d",
   "metadata": {},
   "source": [
    "#### Bivariate gemischte Analysen\n",
    "Bei der Untersuchung der kategorischen Attribute wird mit Violin Plots als Small Multiple gearbeitet, um Verteilungen für jeden Typ zu sehen und ausführen zu können. Die Einfärbung basiert somit auf den Anteil der Herzerkrankungen in den Schnittmengen"
   ]
  },
  {
   "cell_type": "code",
   "execution_count": null,
   "id": "44047a75",
   "metadata": {},
   "outputs": [],
   "source": [
    "fig, axes = plt.subplots(amount_numerical_attributes-1, amount_categorical_attributes , figsize=(35, 15 ))\n",
    "\n",
    "for i in range(amount_numerical_attributes-1):\n",
    "    for j in range(amount_categorical_attributes):\n",
    "        ax = axes[i,j]\n",
    "        sns.violinplot(ax=ax, data=data, x=categorical_attributes[j], y=numerical_attributes[i], hue='target',  split=True, palette='muted')\n",
    "\n",
    "        if(j != 0):\n",
    "            ax.set_ylabel('')\n",
    "        if(i < amount_numerical_attributes -2 ):\n",
    "            ax.set_xlabel('')\n",
    "            ax.set_xticklabels('')\n",
    "        else:\n",
    "            ax.set_xticklabels(ax.get_xticklabels(), rotation=45, ha='right')\n",
    "\n",
    "fig.show"
   ]
  },
  {
   "cell_type": "markdown",
   "id": "aae32ac8",
   "metadata": {},
   "source": [
    "#### Bivariate numerische Analysen\n",
    "Bei der Untersuchung der kategorischen Attribute wird mit Scatter als Small Multiple gearbeitet, um Verteilungen für jeden Typ zu sehen und ausführen zu können."
   ]
  },
  {
   "cell_type": "code",
   "execution_count": null,
   "id": "cd7e229c",
   "metadata": {},
   "outputs": [],
   "source": [
    "\n",
    "sns.pairplot(data, vars=numerical_attributes[:-1], hue='target', diag_kind='kde')\n",
    "plt.suptitle('Streudiagramme für ausgewählte numerische Variablen', y=1.02)\n",
    "plt.show()\n",
    "\n",
    "fig.show"
   ]
  },
  {
   "cell_type": "markdown",
   "id": "14c3f4fc",
   "metadata": {},
   "source": [
    "## Principal Component Analysis (PCA)\n",
    "\n",
    "Principal Component Analysis (PCA) ist eine statistische Methode, die zur Dimensionsreduktion in Datensätzen verwendet wird. Sie zielt darauf ab, die Menge an Informationen zu verringern, die in einem Datensatz enthalten sind, indem sie die Anzahl der Variablen (Dimensionen) reduziert, während gleichzeitig der größtmögliche Anteil an Variation beibehalten wird. PCA ist geeignetsten für kontinuierliche Werte. Daher werden die numerischen Werte minimiert und an den kategorischen Werten angehängt.\n",
    "\n",
    "Zuerst werden die Daten standardisiert, um sicherzustellen, dass jede Variable einen Mittelwert von Null und eine Standardabweichung von Eins hat. Dies ist wichtig, um sicherzustellen, dass alle Variablen auf einer vergleichbaren Skala liegen."
   ]
  },
  {
   "cell_type": "code",
   "execution_count": 4,
   "id": "c72566de",
   "metadata": {},
   "outputs": [],
   "source": [
    "numerical_features = data[numerical_attributes[:-1]] #ohne target\n",
    "numerical_mean = numerical_features.mean()\n",
    "numerical_std = numerical_features.std()\n",
    "numerical_features_standardized = (numerical_features - numerical_mean) / numerical_std"
   ]
  },
  {
   "cell_type": "markdown",
   "id": "680c85d3",
   "metadata": {},
   "source": [
    "Als nächstes wird die Kovarianzmatrix der standardisierten Daten berechnet. Die Kovarianzmatrix gibt an, wie stark zwei Variablen zusammen variieren. Sie ist wichtig, da PCA darauf abzielt, die Hauptachsen der maximalen Variation in den Daten zu finde"
   ]
  },
  {
   "cell_type": "code",
   "execution_count": null,
   "id": "02deaab8",
   "metadata": {},
   "outputs": [],
   "source": [
    "cov_matrix = numerical_features_standardized.cov()"
   ]
  },
  {
   "cell_type": "markdown",
   "id": "24d8ef0a",
   "metadata": {},
   "source": [
    "Die Eigenwerte werden absteigend sortiert, um die Hauptkomponenten in der Reihenfolge ihrer Bedeutung zu identifizieren. Die Hauptkomponenten mit den größten Eigenwerten tragen mehr zur Gesamtvariation der Daten bei."
   ]
  },
  {
   "cell_type": "code",
   "execution_count": null,
   "id": "28b03b7e",
   "metadata": {},
   "outputs": [],
   "source": [
    "eigenvalues, eigenvectors = np.linalg.eig(cov_matrix)"
   ]
  },
  {
   "cell_type": "markdown",
   "id": "1b7c4d38",
   "metadata": {},
   "source": [
    "Die Eigenwerte werden absteigend sortiert, um die Hauptkomponenten in der Reihenfolge ihrer Bedeutung zu identifizieren. Die Hauptkomponenten mit den größten Eigenwerten tragen mehr zur Gesamtvariation der Daten bei."
   ]
  },
  {
   "cell_type": "code",
   "execution_count": null,
   "id": "110db36d",
   "metadata": {},
   "outputs": [],
   "source": [
    "eig_pairs = [(np.abs(eigenvalues[i]), eigenvectors[:,i]) for i in range(len(eigenvalues))]\n",
    "eig_pairs.sort(key=lambda x: x[0], reverse=True)"
   ]
  },
  {
   "cell_type": "markdown",
   "id": "54fe8b6f",
   "metadata": {},
   "source": [
    "Basierend auf den sortierten Eigenwerten werden die ersten k Hauptkomponenten ausgewählt, um den Raum der Daten zu reduzieren. Dieser Schritt ermöglicht es, die Dimensionalität des Datensatzes zu reduzieren, während gleichzeitig der größtmögliche Anteil an Variation beibehalten wird.\n"
   ]
  },
  {
   "cell_type": "code",
   "execution_count": null,
   "id": "6be0f016",
   "metadata": {},
   "outputs": [],
   "source": [
    "k = 2  # number of principal components\n",
    "selected_eigenvectors = np.array([pair[1] for pair in eig_pairs[:k]])"
   ]
  },
  {
   "cell_type": "markdown",
   "id": "95f3aef3",
   "metadata": {},
   "source": [
    "Schließlich werden die ursprünglichen Daten in den Raum der ausgewählten Hauptkomponenten transformiert. Dadurch entsteht ein neuer Satz von Variablen (die Hauptkomponenten), die eine Zusammenfassung der ursprünglichen Daten darstellen. Diese können verwendet werden, um die Daten für weitere Analysen zu visualisieren oder zu modellieren."
   ]
  },
  {
   "cell_type": "code",
   "execution_count": null,
   "id": "8f0f2c32",
   "metadata": {},
   "outputs": [],
   "source": [
    "pca_result = np.dot(numerical_features_standardized, selected_eigenvectors.T)\n",
    "\n",
    "categorical_features_w_target= pd.read_csv(\"../resources/data_dirty/heart_predictions.csv\").dropna(how='any').rename(\n",
    "    columns = {'cp':'chest_pain_type', \n",
    "               'trestbps':'resting_blood_pressure', \n",
    "               'chol': 'cholesterol',\n",
    "               'fbs': 'fasting_blood_sugar',\n",
    "               'restecg' : 'resting_electrocardiogram', \n",
    "               'thalach': 'max_heart_rate_achieved', \n",
    "               'exang': 'exercise_induced_angina',\n",
    "               'oldpeak': 'st_depression', \n",
    "               'slope': 'st_slope', \n",
    "               'ca':'num_major_vessels', \n",
    "               'thal': 'thalassemia'}, \n",
    "    errors=\"raise\")[non_numerical_attributes]\n",
    "joined_features = pd.concat([categorical_features_w_target, pd.DataFrame(pca_result, columns=['pca_component1', 'pca_component2'])], axis=1)"
   ]
  }
 ],
 "metadata": {
  "kernelspec": {
   "display_name": "Python 3 (ipykernel)",
   "language": "python",
   "name": "python3"
  },
  "language_info": {
   "codemirror_mode": {
    "name": "ipython",
    "version": 3
   },
   "file_extension": ".py",
   "mimetype": "text/x-python",
   "name": "python",
   "nbconvert_exporter": "python",
   "pygments_lexer": "ipython3",
   "version": "3.12.3"
  }
 },
 "nbformat": 4,
 "nbformat_minor": 5
}
