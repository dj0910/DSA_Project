{
 "cells": [
  {
   "cell_type": "markdown",
   "metadata": {},
   "source": [
    "# Imports für das Notebook"
   ]
  },
  {
   "cell_type": "code",
   "execution_count": 1,
   "metadata": {},
   "outputs": [],
   "source": [
    "import pandas as pd\n",
    "from sklearn.preprocessing import LabelEncoder, StandardScaler\n",
    "from sklearn.model_selection import train_test_split\n",
    "import xgboost as xgb\n",
    "import numpy as np\n",
    "from sklearn.metrics import recall_score"
   ]
  },
  {
   "cell_type": "markdown",
   "metadata": {},
   "source": [
    "# Vorbereitung der Daten"
   ]
  },
  {
   "cell_type": "code",
   "execution_count": 4,
   "metadata": {},
   "outputs": [],
   "source": [
    "# Einlesen der gesäuberten Daten für Exploration und Visualisierung\n",
    "heart_data = pd.read_csv(\"../../resources/data_clean/heart_2020_clean.csv\")\n",
    "\n",
    "# Filtern von zu hohen Schlafzeiten\n",
    "heart_data = heart_data[heart_data[\"SleepTime\"] <= np.percentile(heart_data[\"SleepTime\"], 99.9)]\n",
    "\n",
    "# Trainieren des XGBoost-Modells\n",
    "model_xgb = xgb.XGBClassifier()\n",
    "\n",
    "# Konvertierung der kategorialen Attribute\n",
    "labelencoder = LabelEncoder()\n",
    "\n",
    "heart_data[\"AgeCategory\"] = labelencoder.fit_transform(heart_data[\"AgeCategory\"])\n",
    "heart_data[\"KidneyDisease\"] = heart_data[\"KidneyDisease\"].map({\"Ja\": 1, \"Nein\": 0})\n",
    "heart_data[\"Stroke\"] = heart_data[\"Stroke\"].map({\"Ja\": 1, \"Nein\": 0})\n",
    "heart_data[\"GenHealth\"] = labelencoder.fit_transform(heart_data[\"GenHealth\"])\n",
    "\n",
    "# Standardisierung der numerischen Attribute\n",
    "scaler = StandardScaler()\n",
    "heart_data[\"SleepTime\"] = scaler.fit_transform(heart_data[\"SleepTime\"].values.reshape(-1, 1))"
   ]
  },
  {
   "cell_type": "markdown",
   "metadata": {},
   "source": [
    "Die CSV-Datei wird hier so angepasst, dass der nächste Abschnitt sich um das Modell für die Vorhersage kümmern kann.  \n",
    "Es werden hier die nichtaussagekräftigen Werte aus dem Datensatz gefiltert und kategoriellen Variablen werden umcodiert, sodass sie vom Modell verarbeitet werden können"
   ]
  },
  {
   "cell_type": "markdown",
   "metadata": {},
   "source": [
    "# XGBoost-Modell"
   ]
  },
  {
   "cell_type": "code",
   "execution_count": 5,
   "metadata": {},
   "outputs": [
    {
     "name": "stdout",
     "output_type": "stream",
     "text": [
      "XGBoost Recall (Ja): 0.9958928724223496\n"
     ]
    }
   ],
   "source": [
    "# Trennen von Trainings- und Testdatensatz\n",
    "X = heart_data[[\"AgeCategory\", \"SleepTime\", \"KidneyDisease\", \"Stroke\", \"GenHealth\"]]\n",
    "y = heart_data[\"HeartDisease\"]\n",
    "\n",
    "X_train, X_test, y_train, y_test = train_test_split(X, y, test_size=0.2, random_state=42)\n",
    "\n",
    "# Weitere Kategorisierung\n",
    "y_train_encoded = labelencoder.fit_transform(y_train)\n",
    "y_test_encoded = labelencoder.fit_transform(y_test)\n",
    "\n",
    "# Training des Modells\n",
    "model_xgb.fit(X_train, y_train_encoded)\n",
    "\n",
    "# Vorhersagen auf dem Testdatensatz\n",
    "y_pred_xgb = model_xgb.predict(X_test)\n",
    "\n",
    "# Bewertung der Modellleistung anhand des Recalls\n",
    "recall_xgb = recall_score(y_test_encoded, y_pred_xgb, pos_label=1)\n",
    "\n",
    "print(\"XGBoost Recall (Ja):\", recall_xgb)"
   ]
  },
  {
   "cell_type": "markdown",
   "metadata": {},
   "source": [
    "Unsere Modelle basieren auf den 5 wichtigsten Attributen, die auf eine Herzerkrankung hinweisen können. Diese wurden im anderen Notebook in diesem Ordner manuell identifiziert.  \n",
    "Der Recall, der misst, wie viele der tatsächlich Erkrankten vom Modell korrekt identifiziert werden, liegt in unserem Fall bei herausragenden 99,6%. Dies bedeutet, dass die meisten Vorhersagen des Modells korrekt eine Herzerkrankung erkennen."
   ]
  }
 ],
 "metadata": {
  "kernelspec": {
   "display_name": "Python 3",
   "language": "python",
   "name": "python3"
  },
  "language_info": {
   "codemirror_mode": {
    "name": "ipython",
    "version": 3
   },
   "file_extension": ".py",
   "mimetype": "text/x-python",
   "name": "python",
   "nbconvert_exporter": "python",
   "pygments_lexer": "ipython3",
   "version": "3.11.9"
  }
 },
 "nbformat": 4,
 "nbformat_minor": 2
}
